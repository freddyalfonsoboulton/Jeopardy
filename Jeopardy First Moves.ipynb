{
 "cells": [
  {
   "cell_type": "code",
   "execution_count": 1,
   "metadata": {
    "collapsed": true
   },
   "outputs": [],
   "source": [
    "from sqlalchemy import create_engine\n",
    "import pandas as pd"
   ]
  },
  {
   "cell_type": "code",
   "execution_count": 9,
   "metadata": {},
   "outputs": [],
   "source": [
    "con = create_engine('postgresql://localhost/jeopardy', client_encoding='utf8')\n",
    "first_moves = pd.read_sql('select season, row, trend.column from trend where question_index = 1;',con)"
   ]
  },
  {
   "cell_type": "code",
   "execution_count": 22,
   "metadata": {},
   "outputs": [
    {
     "name": "stdout",
     "output_type": "stream",
     "text": [
      "column         1         2         3         4         5         6\n",
      "row                                                               \n",
      "1       0.140351  0.181287  0.122807  0.128655  0.099415  0.152047\n",
      "2       0.017544  0.005848  0.005848  0.011696  0.023392  0.005848\n",
      "3       0.005848  0.017544  0.017544  0.023392  0.000000  0.005848\n",
      "4       0.005848  0.011696  0.000000  0.005848  0.005848  0.000000\n",
      "5       0.000000  0.005848  0.000000  0.000000  0.000000  0.000000\n",
      "column         1         2         3         4         5         6\n",
      "row                                                               \n",
      "1       0.139130  0.130435  0.134783  0.104348  0.117391  0.095652\n",
      "2       0.004348  0.021739  0.021739  0.004348  0.004348  0.000000\n",
      "3       0.013043  0.034783  0.030435  0.043478  0.000000  0.026087\n",
      "4       0.013043  0.008696  0.004348  0.008696  0.000000  0.000000\n",
      "5       0.017391  0.004348  0.000000  0.004348  0.000000  0.013043\n",
      "column         1        2         3         4         5         6\n",
      "row                                                              \n",
      "1       0.208696  0.23913  0.130435  0.147826  0.104348  0.165217\n",
      "5       0.004348  0.00000  0.000000  0.000000  0.000000  0.000000\n"
     ]
    }
   ],
   "source": [
    "def make_crosstab(season,first_moves):\n",
    "    sub = first_moves.ix[first_moves['season'] == season]\n",
    "    tab = pd.crosstab(sub['row'],sub['column'])\n",
    "    return tab/sum((tab.sum()))\n",
    "\n",
    "print(make_crosstab(33,first_moves))\n",
    "print(make_crosstab(32,first_moves))\n",
    "print(make_crosstab(25,first_moves))"
   ]
  },
  {
   "cell_type": "code",
   "execution_count": 16,
   "metadata": {},
   "outputs": [],
   "source": [
    "tab = pd.crosstab(first_moves['row'],first_moves['column'])"
   ]
  },
  {
   "cell_type": "code",
   "execution_count": 23,
   "metadata": {},
   "outputs": [
    {
     "data": {
      "text/html": [
       "<div>\n",
       "<table border=\"1\" class=\"dataframe\">\n",
       "  <thead>\n",
       "    <tr style=\"text-align: right;\">\n",
       "      <th>column</th>\n",
       "      <th>1</th>\n",
       "      <th>2</th>\n",
       "      <th>3</th>\n",
       "      <th>4</th>\n",
       "      <th>5</th>\n",
       "      <th>6</th>\n",
       "    </tr>\n",
       "    <tr>\n",
       "      <th>row</th>\n",
       "      <th></th>\n",
       "      <th></th>\n",
       "      <th></th>\n",
       "      <th></th>\n",
       "      <th></th>\n",
       "      <th></th>\n",
       "    </tr>\n",
       "  </thead>\n",
       "  <tbody>\n",
       "    <tr>\n",
       "      <th>1</th>\n",
       "      <td>0.210789</td>\n",
       "      <td>0.189560</td>\n",
       "      <td>0.142857</td>\n",
       "      <td>0.125125</td>\n",
       "      <td>0.115884</td>\n",
       "      <td>0.155345</td>\n",
       "    </tr>\n",
       "    <tr>\n",
       "      <th>2</th>\n",
       "      <td>0.002248</td>\n",
       "      <td>0.001998</td>\n",
       "      <td>0.001748</td>\n",
       "      <td>0.002498</td>\n",
       "      <td>0.002248</td>\n",
       "      <td>0.000999</td>\n",
       "    </tr>\n",
       "    <tr>\n",
       "      <th>3</th>\n",
       "      <td>0.002997</td>\n",
       "      <td>0.004745</td>\n",
       "      <td>0.005245</td>\n",
       "      <td>0.004246</td>\n",
       "      <td>0.000999</td>\n",
       "      <td>0.003746</td>\n",
       "    </tr>\n",
       "    <tr>\n",
       "      <th>4</th>\n",
       "      <td>0.005994</td>\n",
       "      <td>0.001748</td>\n",
       "      <td>0.002498</td>\n",
       "      <td>0.001998</td>\n",
       "      <td>0.001998</td>\n",
       "      <td>0.001249</td>\n",
       "    </tr>\n",
       "    <tr>\n",
       "      <th>5</th>\n",
       "      <td>0.003996</td>\n",
       "      <td>0.002997</td>\n",
       "      <td>0.000250</td>\n",
       "      <td>0.001499</td>\n",
       "      <td>0.000500</td>\n",
       "      <td>0.001998</td>\n",
       "    </tr>\n",
       "  </tbody>\n",
       "</table>\n",
       "</div>"
      ],
      "text/plain": [
       "column         1         2         3         4         5         6\n",
       "row                                                               \n",
       "1       0.210789  0.189560  0.142857  0.125125  0.115884  0.155345\n",
       "2       0.002248  0.001998  0.001748  0.002498  0.002248  0.000999\n",
       "3       0.002997  0.004745  0.005245  0.004246  0.000999  0.003746\n",
       "4       0.005994  0.001748  0.002498  0.001998  0.001998  0.001249\n",
       "5       0.003996  0.002997  0.000250  0.001499  0.000500  0.001998"
      ]
     },
     "execution_count": 23,
     "metadata": {},
     "output_type": "execute_result"
    }
   ],
   "source": [
    "tab/sum(tab.sum())"
   ]
  },
  {
   "cell_type": "code",
   "execution_count": null,
   "metadata": {
    "collapsed": true
   },
   "outputs": [],
   "source": []
  }
 ],
 "metadata": {
  "kernelspec": {
   "display_name": "Python 3",
   "language": "python",
   "name": "python3"
  },
  "language_info": {
   "codemirror_mode": {
    "name": "ipython",
    "version": 3
   },
   "file_extension": ".py",
   "mimetype": "text/x-python",
   "name": "python",
   "nbconvert_exporter": "python",
   "pygments_lexer": "ipython3",
   "version": "3.6.1"
  }
 },
 "nbformat": 4,
 "nbformat_minor": 2
}
